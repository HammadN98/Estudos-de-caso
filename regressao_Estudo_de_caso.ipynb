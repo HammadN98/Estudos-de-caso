{
  "nbformat": 4,
  "nbformat_minor": 0,
  "metadata": {
    "colab": {
      "provenance": [],
      "authorship_tag": "ABX9TyNbh1wF6PExKGswwhSaBhw3",
      "include_colab_link": true
    },
    "kernelspec": {
      "name": "python3",
      "display_name": "Python 3"
    },
    "language_info": {
      "name": "python"
    }
  },
  "cells": [
    {
      "cell_type": "markdown",
      "metadata": {
        "id": "view-in-github",
        "colab_type": "text"
      },
      "source": [
        "<a href=\"https://colab.research.google.com/github/HammadN98/Estudos-de-caso/blob/main/regressao_Estudo_de_caso.ipynb\" target=\"_parent\"><img src=\"https://colab.research.google.com/assets/colab-badge.svg\" alt=\"Open In Colab\"/></a>"
      ]
    },
    {
      "cell_type": "markdown",
      "source": [
        "# Life Expectancy\n",
        "\n",
        "**Objetivo:** Prever a expectativa de vida de países com base em indicadores sociais, econômicos e de saúde.\n",
        "\n",
        "Dados obtidos em: [Life Expectancy](https://www.kaggle.com/datasets/lashagoch/life-expectancy-who-updated)"
      ],
      "metadata": {
        "id": "KXpiQ_Asnc-8"
      }
    },
    {
      "cell_type": "code",
      "execution_count": null,
      "metadata": {
        "id": "OQxX6v_lnNmS"
      },
      "outputs": [],
      "source": []
    }
  ]
}